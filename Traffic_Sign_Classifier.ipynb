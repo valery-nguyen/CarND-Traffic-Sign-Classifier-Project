{
 "cells": [
  {
   "cell_type": "markdown",
   "metadata": {},
   "source": [
    "# Self-Driving Car Engineer Nanodegree\n",
    "\n",
    "## Deep Learning\n",
    "\n",
    "## Project: Build a Traffic Sign Recognition Classifier\n",
    "\n",
    "In this notebook, a template is provided for you to implement your functionality in stages which is required to successfully complete this project. If additional code is required that cannot be included in the notebook, be sure that the Python code is successfully imported and included in your submission, if necessary. Sections that begin with **'Implementation'** in the header indicate where you should begin your implementation for your project. Note that some sections of implementation are optional, and will be marked with **'Optional'** in the header.\n",
    "\n",
    "In addition to implementing code, there will be questions that you must answer which relate to the project and your implementation. Each section where you will answer a question is preceded by a **'Question'** header. Carefully read each question and provide thorough answers in the following text boxes that begin with **'Answer:'**. Your project submission will be evaluated based on your answers to each of the questions and the implementation you provide.\n",
    "\n",
    ">**Note:** Code and Markdown cells can be executed using the **Shift + Enter** keyboard shortcut. In addition, Markdown cells can be edited by typically double-clicking the cell to enter edit mode."
   ]
  },
  {
   "cell_type": "markdown",
   "metadata": {},
   "source": [
    "---\n",
    "## Step 0: Load The Data"
   ]
  },
  {
   "cell_type": "code",
   "execution_count": 1,
   "metadata": {
    "collapsed": false
   },
   "outputs": [
    {
     "name": "stderr",
     "output_type": "stream",
     "text": [
      "/home/carnd/anaconda3/envs/CarND-Traffic-Sign-Classifier-Project/lib/python3.5/site-packages/sklearn/cross_validation.py:44: DeprecationWarning: This module was deprecated in version 0.18 in favor of the model_selection module into which all the refactored classes and functions are moved. Also note that the interface of the new CV iterators are different from that of this module. This module will be removed in 0.20.\n",
      "  \"This module will be removed in 0.20.\", DeprecationWarning)\n"
     ]
    }
   ],
   "source": [
    "# Load pickled data\n",
    "import pickle\n",
    "\n",
    "# TODO: Fill this in based on where you saved the training and testing data\n",
    "\n",
    "training_file = 'train.p'\n",
    "testing_file = 'test.p'\n",
    "\n",
    "with open(training_file, mode='rb') as f:\n",
    "    train = pickle.load(f)\n",
    "with open(testing_file, mode='rb') as f:\n",
    "    test = pickle.load(f)\n",
    "\n",
    "#split for train/validation data\n",
    "from sklearn.cross_validation import train_test_split\n",
    "X_train, X_validation, y_train, y_validation = train_test_split(train['features'], train['labels'], train_size = 0.8)\n",
    "\n",
    "#X_train, y_train = train['features'], train['labels']\n",
    "#X_validation, y_validation = train['features'], train['labels']\n",
    "\n",
    "X_test, y_test = test['features'], test['labels']"
   ]
  },
  {
   "cell_type": "markdown",
   "metadata": {},
   "source": [
    "---\n",
    "\n",
    "## Step 1: Dataset Summary & Exploration\n",
    "\n",
    "The pickled data is a dictionary with 4 key/value pairs:\n",
    "\n",
    "- `'features'` is a 4D array containing raw pixel data of the traffic sign images, (num examples, width, height, channels).\n",
    "- `'labels'` is a 2D array containing the label/class id of the traffic sign. The file `signnames.csv` contains id -> name mappings for each id.\n",
    "- `'sizes'` is a list containing tuples, (width, height) representing the the original width and height the image.\n",
    "- `'coords'` is a list containing tuples, (x1, y1, x2, y2) representing coordinates of a bounding box around the sign in the image. **THESE COORDINATES ASSUME THE ORIGINAL IMAGE. THE PICKLED DATA CONTAINS RESIZED VERSIONS (32 by 32) OF THESE IMAGES**\n",
    "\n",
    "Complete the basic data summary below."
   ]
  },
  {
   "cell_type": "code",
   "execution_count": 2,
   "metadata": {
    "collapsed": false
   },
   "outputs": [
    {
     "name": "stdout",
     "output_type": "stream",
     "text": [
      "Number of training examples = 31367\n",
      "Number of testing examples = 12630\n",
      "Image data shape = (32, 32)\n",
      "Number of classes = 43\n"
     ]
    }
   ],
   "source": [
    "### Replace each question mark with the appropriate value.\n",
    "\n",
    "import numpy as np\n",
    "import cv2\n",
    "\n",
    "# TODO: Number of training examples\n",
    "n_train = X_train.shape[0]\n",
    "\n",
    "# TODO: Number of testing examples.\n",
    "n_test = X_test.shape[0]\n",
    "\n",
    "# TODO: What's the shape of an traffic sign image?\n",
    "image_shape = (X_train.shape[1],X_train.shape[2])\n",
    "\n",
    "# TODO: How many unique classes/labels there are in the dataset.\n",
    "n_classes = len(np.unique(y_train))\n",
    "\n",
    "print(\"Number of training examples =\", n_train)\n",
    "print(\"Number of testing examples =\", n_test)\n",
    "print(\"Image data shape =\", image_shape)\n",
    "print(\"Number of classes =\", n_classes)"
   ]
  },
  {
   "cell_type": "markdown",
   "metadata": {},
   "source": [
    "Visualize the German Traffic Signs Dataset using the pickled file(s). This is open ended, suggestions include: plotting traffic sign images, plotting the count of each sign, etc.\n",
    "\n",
    "The [Matplotlib](http://matplotlib.org/) [examples](http://matplotlib.org/examples/index.html) and [gallery](http://matplotlib.org/gallery.html) pages are a great resource for doing visualizations in Python.\n",
    "\n",
    "**NOTE:** It's recommended you start with something simple first. If you wish to do more, come back to it after you've completed the rest of the sections."
   ]
  },
  {
   "cell_type": "code",
   "execution_count": 3,
   "metadata": {
    "collapsed": true
   },
   "outputs": [],
   "source": [
    "#grayscale image set\n",
    "def grayscale_set(img):\n",
    "    img_gr = []\n",
    "    \n",
    "    for i in range(0,len(img)):\n",
    "        #compute\n",
    "        img_gr.append(cv2.cvtColor(img[i],cv2.COLOR_BGR2GRAY))\n",
    "\n",
    "    return img_gr"
   ]
  },
  {
   "cell_type": "code",
   "execution_count": 4,
   "metadata": {
    "collapsed": false
   },
   "outputs": [],
   "source": [
    "#normalize grayscale image set\n",
    "def normalize_grayscale(img):\n",
    "    a = -0.5\n",
    "    b = 0.5\n",
    "    grayscale_min = 0\n",
    "    grayscale_max = 255\n",
    "    img_nm = []\n",
    "    \n",
    "    for i in range(0,len(img)):\n",
    "        #compute\n",
    "        img_nm.append(a + ( ( (img[i] - grayscale_min)*(b - a) )/( grayscale_max - grayscale_min ) ))\n",
    "    \n",
    "    return img_nm"
   ]
  },
  {
   "cell_type": "code",
   "execution_count": 5,
   "metadata": {
    "collapsed": false
   },
   "outputs": [
    {
     "name": "stdout",
     "output_type": "stream",
     "text": [
      "(32, 32, 3)\n",
      "18\n"
     ]
    },
    {
     "data": {
      "image/png": "[encoded data removed]",
      "text/plain": [
       "<matplotlib.figure.Figure at 0x7f36f0aa75f8>"
      ]
     },
     "metadata": {},
     "output_type": "display_data"
    }
   ],
   "source": [
    "### Data exploration visualization goes here.\n",
    "### Feel free to use as many code cells as needed.\n",
    "import matplotlib.pyplot as plt\n",
    "# Visualizations will be shown in the notebook.\n",
    "%matplotlib inline\n",
    "\n",
    "import random\n",
    "\n",
    "index = random.randint(0, len(X_train))\n",
    "image = X_train[index]\n",
    "print(image.shape)\n",
    "plt.figure(figsize=(1,1))\n",
    "plt.imshow(image)\n",
    "print(y_train[index])"
   ]
  },
  {
   "cell_type": "markdown",
   "metadata": {},
   "source": [
    "----\n",
    "\n",
    "## Step 2: Design and Test a Model Architecture\n",
    "\n",
    "Design and implement a deep learning model that learns to recognize traffic signs. Train and test your model on the [German Traffic Sign Dataset](http://benchmark.ini.rub.de/?section=gtsrb&subsection=dataset).\n",
    "\n",
    "There are various aspects to consider when thinking about this problem:\n",
    "\n",
    "- Neural network architecture\n",
    "- Play around preprocessing techniques (normalization, rgb to grayscale, etc)\n",
    "- Number of examples per label (some have more than others).\n",
    "- Generate fake data.\n",
    "\n",
    "Here is an example of a [published baseline model on this problem](http://yann.lecun.com/exdb/publis/pdf/sermanet-ijcnn-11.pdf). It's not required to be familiar with the approach used in the paper but, it's good practice to try to read papers like these.\n",
    "\n",
    "**NOTE:** The LeNet-5 implementation shown in the [classroom](https://classroom.udacity.com/nanodegrees/nd013/parts/fbf77062-5703-404e-b60c-95b78b2f3f9e/modules/6df7ae49-c61c-4bb2-a23e-6527e69209ec/lessons/601ae704-1035-4287-8b11-e2c2716217ad/concepts/d4aca031-508f-4e0b-b493-e7b706120f81) at the end of the CNN lesson is a solid starting point. You'll have to change the number of classes and possibly the preprocessing, but aside from that it's plug and play!"
   ]
  },
  {
   "cell_type": "markdown",
   "metadata": {},
   "source": [
    "### Implementation\n",
    "\n",
    "Use the code cell (or multiple code cells, if necessary) to implement the first step of your project. Once you have completed your implementation and are satisfied with the results, be sure to thoroughly answer the questions that follow."
   ]
  },
  {
   "cell_type": "code",
   "execution_count": 6,
   "metadata": {
    "collapsed": true
   },
   "outputs": [],
   "source": [
    "### Preprocess the data here.\n",
    "### Feel free to use as many code cells as needed."
   ]
  },
  {
   "cell_type": "code",
   "execution_count": 7,
   "metadata": {
    "collapsed": true
   },
   "outputs": [],
   "source": [
    "from sklearn.utils import shuffle\n",
    "\n",
    "X_train, y_train = shuffle(X_train, y_train)"
   ]
  },
  {
   "cell_type": "code",
   "execution_count": 8,
   "metadata": {
    "collapsed": false
   },
   "outputs": [
    {
     "name": "stdout",
     "output_type": "stream",
     "text": [
      "(32, 32, 3)\n",
      "12\n"
     ]
    },
    {
     "data": {
      "image/png": "[encoded data removed]",
      "text/plain": [
       "<matplotlib.figure.Figure at 0x7f36a85ffa90>"
      ]
     },
     "metadata": {},
     "output_type": "display_data"
    }
   ],
   "source": [
    "###remove at finalization\n",
    "# Visualizations will be shown in the notebook.\n",
    "%matplotlib inline\n",
    "\n",
    "import random\n",
    "\n",
    "index = random.randint(0, len(X_train))\n",
    "image = X_train[index]\n",
    "print(image.shape)\n",
    "plt.figure(figsize=(1,1))\n",
    "plt.imshow(image)\n",
    "print(y_train[index])"
   ]
  },
  {
   "cell_type": "code",
   "execution_count": 9,
   "metadata": {
    "collapsed": false
   },
   "outputs": [],
   "source": [
    "#grayscale and normalize image sets\n",
    "X_train = np.expand_dims(normalize_grayscale(grayscale_set(X_train)), axis=3)\n",
    "X_test = np.expand_dims(normalize_grayscale(grayscale_set(X_test)), axis=3)\n",
    "X_validation = np.expand_dims(normalize_grayscale(grayscale_set(X_validation)), axis=3)"
   ]
  },
  {
   "cell_type": "code",
   "execution_count": 10,
   "metadata": {
    "collapsed": false
   },
   "outputs": [
    {
     "name": "stdout",
     "output_type": "stream",
     "text": [
      "(32, 32)\n",
      "12\n"
     ]
    },
    {
     "data": {
      "image/png": "[encoded data removed]",
      "text/plain": [
       "<matplotlib.figure.Figure at 0x7f36f0a97a58>"
      ]
     },
     "metadata": {},
     "output_type": "display_data"
    }
   ],
   "source": [
    "###remove at finalization\n",
    "# Visualizations will be shown in the notebook.\n",
    "image = X_train[index].squeeze()\n",
    "print(image.shape)\n",
    "plt.figure(figsize=(1,1))\n",
    "plt.imshow(image, cmap='gray')\n",
    "print(y_train[index])"
   ]
  },
  {
   "cell_type": "markdown",
   "metadata": {},
   "source": [
    "### Question 1 \n",
    "\n",
    "_Describe how you preprocessed the data. Why did you choose that technique?_"
   ]
  },
  {
   "cell_type": "markdown",
   "metadata": {},
   "source": [
    "**Answer:**"
   ]
  },
  {
   "cell_type": "code",
   "execution_count": 11,
   "metadata": {
    "collapsed": true
   },
   "outputs": [],
   "source": [
    "### Generate data additional data (OPTIONAL!)\n",
    "### and split the data into training/validation/testing sets here.\n",
    "### Feel free to use as many code cells as needed."
   ]
  },
  {
   "cell_type": "markdown",
   "metadata": {},
   "source": [
    "### Question 2\n",
    "\n",
    "_Describe how you set up the training, validation and testing data for your model. **Optional**: If you generated additional data, how did you generate the data? Why did you generate the data? What are the differences in the new dataset (with generated data) from the original dataset?_"
   ]
  },
  {
   "cell_type": "markdown",
   "metadata": {},
   "source": [
    "**Answer:**"
   ]
  },
  {
   "cell_type": "code",
   "execution_count": 12,
   "metadata": {
    "collapsed": true
   },
   "outputs": [],
   "source": [
    "### Define your architecture here.\n",
    "### Feel free to use as many code cells as needed."
   ]
  },
  {
   "cell_type": "code",
   "execution_count": 13,
   "metadata": {
    "collapsed": true
   },
   "outputs": [],
   "source": [
    "import tensorflow as tf\n",
    "\n",
    "EPOCHS = 100\n",
    "BATCH_SIZE = 64"
   ]
  },
  {
   "cell_type": "code",
   "execution_count": 14,
   "metadata": {
    "collapsed": false
   },
   "outputs": [],
   "source": [
    "from tensorflow.contrib.layers import flatten\n",
    "\n",
    "def net(x):    \n",
    "    # Hyperparameters\n",
    "    mu = 0\n",
    "    sigma = 0.1\n",
    "    inc1_depth = 12\n",
    "    inc2_depth = 24\n",
    "    l2_rate = 0.01\n",
    "    alpha = 0.01\n",
    "    epsilon = 1e-3\n",
    "\n",
    "    \n",
    "    inc1_depth_reduced = int(inc1_depth/2)\n",
    "    inc2_depth_reduced = int(inc2_depth/2)\n",
    "    \n",
    "    # Layer 1: Inception Module 1. Input = 32x32x1. Output = 32x32x(4*inc1_depth).\n",
    "    \n",
    "    # 1x1 Convolution 1. Input = 32x32x1. Output = 32x32x(inc1_depth).\n",
    "    inc1_1x1_conv1_W = tf.Variable(tf.truncated_normal(shape=(1, 1, 1, inc1_depth), mean = mu, stddev = sigma))\n",
    "    inc1_1x1_conv1_b = tf.Variable(tf.zeros(inc1_depth))\n",
    "    inc1_1x1_conv1 = tf.nn.conv2d(x, inc1_1x1_conv1_W, strides=[1,1,1,1], padding='SAME') + inc1_1x1_conv1_b\n",
    "    \n",
    "    # 1x1 Convolution 2 (will be followed by 3x3 convolution). Input = 32x32x1. Output = 32x32xinc1_depth_reduced.\n",
    "    inc1_1x1_conv2_W = tf.Variable(tf.truncated_normal(shape=(1, 1, 1, inc1_depth_reduced), mean = mu, stddev = sigma))\n",
    "    inc1_1x1_conv2_b = tf.Variable(tf.zeros(inc1_depth_reduced))\n",
    "    inc1_1x1_conv2 = tf.nn.conv2d(x, inc1_1x1_conv2_W, strides=[1,1,1,1], padding='SAME') + inc1_1x1_conv2_b\n",
    "    \n",
    "    # 1x1 Convolution 3 (will be followed by 5x5 convolution). Input = 32x32x1. Output = 32x32xinc1_depth_reduced.\n",
    "    inc1_1x1_conv3_W = tf.Variable(tf.truncated_normal(shape=(1, 1, 1, inc1_depth_reduced), mean = mu, stddev = sigma))\n",
    "    inc1_1x1_conv3_b = tf.Variable(tf.zeros(inc1_depth_reduced))\n",
    "    inc1_1x1_conv3 = tf.nn.conv2d(x, inc1_1x1_conv3_W, strides=[1,1,1,1], padding='SAME') + inc1_1x1_conv3_b\n",
    "    \n",
    "    # 3x3 Convolution. Input = 32x32xinc1_depth_reduced. Output = 32x32x(inc1_depth).\n",
    "    inc1_3x3_W = tf.Variable(tf.truncated_normal(shape=(3, 3, inc1_depth_reduced, inc1_depth), mean = mu, stddev = sigma))\n",
    "    inc1_3x3_b = tf.Variable(tf.zeros(inc1_depth))\n",
    "    inc1_3x3 = tf.nn.conv2d(inc1_1x1_conv2, inc1_3x3_W, strides=[1,1,1,1], padding='SAME') + inc1_3x3_b\n",
    "    \n",
    "    # 5x5 Convolution. Input = 32x32xinc1_depth_reduced. Output = 32x32x(inc1_depth).\n",
    "    inc1_5x5_W = tf.Variable(tf.truncated_normal(shape=(5, 5, inc1_depth_reduced, inc1_depth), mean = mu, stddev = sigma))\n",
    "    inc1_5x5_b = tf.Variable(tf.zeros(inc1_depth))\n",
    "    inc1_5x5 = tf.nn.conv2d(inc1_1x1_conv3, inc1_5x5_W, strides=[1,1,1,1], padding='SAME') + inc1_5x5_b\n",
    "    \n",
    "    # Pooling (will be followed by 1x1 convolution). Input = 32x32x1. Output = 32x32x1.\n",
    "    inc1_pool = tf.nn.avg_pool(x, ksize=[1, 2, 2, 1], strides=[1, 1, 1, 1], padding='SAME')\n",
    "    # 1x1 Convolution 4. Input = 32x32x1. Output = 32x32x(inc1_depth).\n",
    "    inc1_1x1_conv4_W = tf.Variable(tf.truncated_normal(shape=(1, 1, 1, inc1_depth), mean = mu, stddev = sigma))\n",
    "    inc1_1x1_conv4_b = tf.Variable(tf.zeros(inc1_depth))\n",
    "    inc1_1x1_conv4 = tf.nn.conv2d(inc1_pool, inc1_1x1_conv4_W, strides=[1,1,1,1], padding='SAME') + inc1_1x1_conv4_b\n",
    "        \n",
    "    # Concatenate. Input = 32x32x(inc1_depth). Output = 32x32x(4*inc1_depth).\n",
    "    inc1 = tf.concat(3,[inc1_1x1_conv1,inc1_3x3,inc1_5x5,inc1_1x1_conv4])\n",
    "    \n",
    "    #ONLY DURING TRAINING\n",
    "    # Batch normalization. (ref.https://arxiv.org/pdf/1502.03167v3.pdf) \n",
    "    batch_mean1, batch_var1 = tf.nn.moments(inc1,[0])\n",
    "    inc1_BN = (inc1 - batch_mean1) / tf.sqrt(batch_var1 + epsilon)\n",
    "    inc1_BN_scale = tf.Variable(tf.ones([(4*inc1_depth)]))\n",
    "    inc1_BN_shift = tf.Variable(tf.zeros([(4*inc1_depth)]))\n",
    "    inc1 = inc1_BN_scale * inc1_BN + inc1_BN_shift\n",
    "    \n",
    "    # Activation.\n",
    "    inc1 = tf.nn.relu(inc1)\n",
    "    inc1 = tf.maximum(alpha*inc1,inc1)     \n",
    "    \n",
    "    # Layer 2: Inception Module 2. Input = 32x32x(inc1_depth). Output = 32x32x(4*inc2_depth).\n",
    "    \n",
    "    # 1x1 Convolution 1. Input = 32x32x(4*inc1_depth). Output = 32x32x(inc2_depth).\n",
    "    inc2_1x1_conv1_W = tf.Variable(tf.truncated_normal(shape=(1, 1, 4*inc1_depth, inc2_depth), mean = mu, stddev = sigma))\n",
    "    inc2_1x1_conv1_b = tf.Variable(tf.zeros(inc2_depth))\n",
    "    inc2_1x1_conv1 = tf.nn.conv2d(inc1, inc2_1x1_conv1_W, strides=[1,1,1,1], padding='SAME') + inc2_1x1_conv1_b\n",
    "    \n",
    "    # 1x1 Convolution 2 (will be followed by 3x3 convolution). Input = 32x32x(4*inc1_depth). Output = 32x32xinc2_depth_reduced.\n",
    "    inc2_1x1_conv2_W = tf.Variable(tf.truncated_normal(shape=(1, 1, 4*inc1_depth, inc2_depth_reduced), mean = mu, stddev = sigma))\n",
    "    inc2_1x1_conv2_b = tf.Variable(tf.zeros(inc2_depth_reduced))\n",
    "    inc2_1x1_conv2 = tf.nn.conv2d(inc1, inc2_1x1_conv2_W, strides=[1,1,1,1], padding='SAME') + inc2_1x1_conv2_b\n",
    "    \n",
    "    # 1x1 Convolution 3 (will be followed by 5x5 convolution). Input = 32x32x(4*inc1_depth). Output = 32x32xinc2_depth_reduced.\n",
    "    inc2_1x1_conv3_W = tf.Variable(tf.truncated_normal(shape=(1, 1, 4*inc1_depth, inc2_depth_reduced), mean = mu, stddev = sigma))\n",
    "    inc2_1x1_conv3_b = tf.Variable(tf.zeros(inc2_depth_reduced))\n",
    "    inc2_1x1_conv3 = tf.nn.conv2d(inc1, inc2_1x1_conv3_W, strides=[1,1,1,1], padding='SAME') + inc2_1x1_conv3_b\n",
    "    \n",
    "    # 3x3 Convolution. Input = 32x32xinc2_depth_reduced. Output = 32x32x(inc2_depth).\n",
    "    inc2_3x3_W = tf.Variable(tf.truncated_normal(shape=(3, 3, inc2_depth_reduced, inc2_depth), mean = mu, stddev = sigma))\n",
    "    inc2_3x3_b = tf.Variable(tf.zeros(inc2_depth))\n",
    "    inc2_3x3 = tf.nn.conv2d(inc2_1x1_conv2, inc2_3x3_W, strides=[1,1,1,1], padding='SAME') + inc2_3x3_b\n",
    "    \n",
    "    # 5x5 Convolution. Input = 32x32xinc2_depth_reduced. Output = 32x32x(inc2_depth).\n",
    "    inc2_5x5_W = tf.Variable(tf.truncated_normal(shape=(5, 5, inc2_depth_reduced, inc2_depth), mean = mu, stddev = sigma))\n",
    "    inc2_5x5_b = tf.Variable(tf.zeros(inc2_depth))\n",
    "    inc2_5x5 = tf.nn.conv2d(inc2_1x1_conv3, inc2_5x5_W, strides=[1,1,1,1], padding='SAME') + inc2_5x5_b\n",
    "    \n",
    "    # Pooling (will be followed by 1x1 convolution). Input = 32x32x(4*inc1_depth). Output = 32x32x(inc1_depth).\n",
    "    inc2_pool = tf.nn.avg_pool(inc1, ksize=[1, 2, 2, 1], strides=[1, 1, 1, 1], padding='SAME')\n",
    "    # 1x1 Convolution 4. Input = 32x32x(4*inc1_depth). Output = 32x32x(inc2_depth).\n",
    "    inc2_1x1_conv4_W = tf.Variable(tf.truncated_normal(shape=(1, 1, 4*inc1_depth, inc2_depth), mean = mu, stddev = sigma))\n",
    "    inc2_1x1_conv4_b = tf.Variable(tf.zeros(inc2_depth))\n",
    "    inc2_1x1_conv4 = tf.nn.conv2d(inc2_pool, inc2_1x1_conv4_W, strides=[1,1,1,1], padding='SAME') + inc2_1x1_conv4_b\n",
    "        \n",
    "    # Concatenate. Input = 32x32x(inc2_depth). Output = 32x32x(4*inc2_depth).\n",
    "    inc2 = tf.concat(3,[inc2_1x1_conv1,inc2_3x3,inc2_5x5,inc2_1x1_conv4])\n",
    "    \n",
    "    #ONLY DURING TRAINING\n",
    "    # Batch normalization. (ref.https://arxiv.org/pdf/1502.03167v3.pdf) \n",
    "    batch_mean2, batch_var2 = tf.nn.moments(inc2,[0])\n",
    "    inc2_BN = (inc2 - batch_mean2) / tf.sqrt(batch_var2 + epsilon)\n",
    "    inc2_BN_scale = tf.Variable(tf.ones([(4*inc2_depth)]))\n",
    "    inc2_BN_shift = tf.Variable(tf.zeros([(4*inc2_depth)]))\n",
    "    inc2 = inc2_BN_scale * inc2_BN + inc2_BN_shift\n",
    "    \n",
    "    # Activation.\n",
    "    inc2 = tf.nn.relu(inc2)\n",
    "    inc2 = tf.maximum(alpha*inc2,inc2)  \n",
    "        \n",
    "    # Dropout. \n",
    "    inc2 = tf.nn.dropout(inc2, keep_prob)\n",
    "    \n",
    "    # Flatten. Input = 32x32x(4*inc2_depth). Output = 32*32*(4*inc2_depth).\n",
    "    fc0   = flatten(inc2)\n",
    "    \n",
    "    # Layer 3: Fully Connected. Input = 32*32*(4*inc2_depth). Output = 1024.\n",
    "    fc1_W = tf.Variable(tf.truncated_normal(shape=(32*32*(4*inc2_depth), 1024), mean = mu, stddev = sigma))\n",
    "    fc1_b = tf.Variable(tf.zeros(1024))\n",
    "    fc1   = tf.matmul(fc0, fc1_W) + fc1_b\n",
    "    \n",
    "    # Activation.\n",
    "    fc1    = tf.nn.relu(fc1)\n",
    "    fc1    = tf.maximum(alpha*fc1,fc1)  \n",
    "\n",
    "    # Layer 4: Fully Connected. Input = 1024. Output = 512.\n",
    "    fc2_W  = tf.Variable(tf.truncated_normal(shape=(1024, 512), mean = mu, stddev = sigma))\n",
    "    fc2_b  = tf.Variable(tf.zeros(512))\n",
    "    fc2    = tf.matmul(fc1, fc2_W) + fc2_b\n",
    "    \n",
    "    # Activation.\n",
    "    fc2    = tf.nn.relu(fc2)\n",
    "    fc2    = tf.maximum(alpha*fc2,fc2)  \n",
    "\n",
    "    # Layer 5: Fully Connected. Input = 512. Output = 43.\n",
    "    fc3_W  = tf.Variable(tf.truncated_normal(shape=(512, 43), mean = mu, stddev = sigma))\n",
    "    fc3_b  = tf.Variable(tf.zeros(43))\n",
    "    logits = tf.matmul(fc2, fc3_W) + fc3_b\n",
    "    \n",
    "    #L2_loss.\n",
    "    l2_loss = (l2_rate*tf.nn.l2_loss(inc1_1x1_conv1_W) +\n",
    "    l2_rate*tf.nn.l2_loss(inc1_1x1_conv1_b) +\n",
    "    l2_rate*tf.nn.l2_loss(inc1_1x1_conv2_W) +    \n",
    "    l2_rate*tf.nn.l2_loss(inc1_1x1_conv2_b) +\n",
    "    l2_rate*tf.nn.l2_loss(inc1_1x1_conv3_W) +    \n",
    "    l2_rate*tf.nn.l2_loss(inc1_1x1_conv3_b) +\n",
    "    l2_rate*tf.nn.l2_loss(inc1_3x3_W) +\n",
    "    l2_rate*tf.nn.l2_loss(inc1_3x3_b) +\n",
    "    l2_rate*tf.nn.l2_loss(inc1_5x5_W) +\n",
    "    l2_rate*tf.nn.l2_loss(inc1_5x5_b) +\n",
    "    l2_rate*tf.nn.l2_loss(inc1_1x1_conv4_W) +\n",
    "    l2_rate*tf.nn.l2_loss(inc1_1x1_conv4_b) +\n",
    "    l2_rate*tf.nn.l2_loss(inc2_1x1_conv1_W) +\n",
    "    l2_rate*tf.nn.l2_loss(inc2_1x1_conv1_b) +\n",
    "    l2_rate*tf.nn.l2_loss(inc2_1x1_conv2_W) +    \n",
    "    l2_rate*tf.nn.l2_loss(inc2_1x1_conv2_b) +\n",
    "    l2_rate*tf.nn.l2_loss(inc2_1x1_conv3_W) +    \n",
    "    l2_rate*tf.nn.l2_loss(inc2_1x1_conv3_b) +\n",
    "    l2_rate*tf.nn.l2_loss(inc2_3x3_W) +\n",
    "    l2_rate*tf.nn.l2_loss(inc2_3x3_b) +\n",
    "    l2_rate*tf.nn.l2_loss(inc2_5x5_W) +\n",
    "    l2_rate*tf.nn.l2_loss(inc2_5x5_b) +\n",
    "    l2_rate*tf.nn.l2_loss(inc2_1x1_conv4_W) +\n",
    "    l2_rate*tf.nn.l2_loss(inc2_1x1_conv4_b) +\n",
    "    l2_rate*tf.nn.l2_loss(fc1_W) +\n",
    "    l2_rate*tf.nn.l2_loss(fc1_b) +  \n",
    "    l2_rate*tf.nn.l2_loss(fc2_W) +\n",
    "    l2_rate*tf.nn.l2_loss(fc2_b) +  \n",
    "    l2_rate*tf.nn.l2_loss(fc3_W) +\n",
    "    l2_rate*tf.nn.l2_loss(fc3_b))\n",
    "    \n",
    "    return logits,l2_loss"
   ]
  },
  {
   "cell_type": "code",
   "execution_count": 15,
   "metadata": {
    "collapsed": false
   },
   "outputs": [],
   "source": [
    "x = tf.placeholder(tf.float32, (None, 32, 32, 1))\n",
    "y = tf.placeholder(tf.int32, (None))\n",
    "one_hot_y = tf.one_hot(y, 43)\n",
    "keep_prob = tf.placeholder(tf.float32)"
   ]
  },
  {
   "cell_type": "code",
   "execution_count": 16,
   "metadata": {
    "collapsed": false
   },
   "outputs": [],
   "source": [
    "rate = 10e-5\n",
    "dropout = 0.5\n",
    "\n",
    "logits,l2_loss = net(x)\n",
    "cross_entropy = tf.nn.softmax_cross_entropy_with_logits(logits, one_hot_y)\n",
    "loss = tf.reduce_mean(cross_entropy) + l2_loss\n",
    "optimizer = tf.train.AdamOptimizer(learning_rate = rate)\n",
    "training_operation = optimizer.minimize(loss)"
   ]
  },
  {
   "cell_type": "markdown",
   "metadata": {},
   "source": [
    "### Question 3\n",
    "\n",
    "_What does your final architecture look like? (Type of model, layers, sizes, connectivity, etc.)  For reference on how to build a deep neural network using TensorFlow, see [Deep Neural Network in TensorFlow\n",
    "](https://classroom.udacity.com/nanodegrees/nd013/parts/fbf77062-5703-404e-b60c-95b78b2f3f9e/modules/6df7ae49-c61c-4bb2-a23e-6527e69209ec/lessons/b516a270-8600-4f93-a0a3-20dfeabe5da6/concepts/83a3a2a2-a9bd-4b7b-95b0-eb924ab14432) from the classroom._\n"
   ]
  },
  {
   "cell_type": "markdown",
   "metadata": {},
   "source": [
    "**Answer:**"
   ]
  },
  {
   "cell_type": "code",
   "execution_count": 17,
   "metadata": {
    "collapsed": true
   },
   "outputs": [],
   "source": [
    "### Train your model here.\n",
    "### Feel free to use as many code cells as needed."
   ]
  },
  {
   "cell_type": "code",
   "execution_count": 18,
   "metadata": {
    "collapsed": false
   },
   "outputs": [],
   "source": [
    "correct_prediction = tf.equal(tf.argmax(logits, 1), tf.argmax(one_hot_y, 1))\n",
    "accuracy_operation = tf.reduce_mean(tf.cast(correct_prediction, tf.float32))\n",
    "saver = tf.train.Saver()\n",
    "\n",
    "def evaluate(X_data, y_data):\n",
    "    num_examples = len(X_data)\n",
    "    total_accuracy = 0\n",
    "    sess = tf.get_default_session()\n",
    "    for offset in range(0, num_examples, BATCH_SIZE):\n",
    "        batch_x, batch_y = X_data[offset:offset+BATCH_SIZE], y_data[offset:offset+BATCH_SIZE]\n",
    "        accuracy = sess.run(accuracy_operation, feed_dict={x: batch_x, y: batch_y, keep_prob: dropout})\n",
    "        total_accuracy += (accuracy * len(batch_x))\n",
    "    return total_accuracy / num_examples"
   ]
  },
  {
   "cell_type": "code",
   "execution_count": 19,
   "metadata": {
    "collapsed": false,
    "scrolled": true
   },
   "outputs": [
    {
     "name": "stdout",
     "output_type": "stream",
     "text": [
      "Training...\n",
      "\n",
      "EPOCH 1 ...\n",
      "Validation Accuracy = 0.138\n",
      "\n",
      "EPOCH 2 ...\n",
      "Validation Accuracy = 0.155\n",
      "\n",
      "EPOCH 3 ...\n",
      "Validation Accuracy = 0.266\n",
      "\n",
      "EPOCH 4 ...\n",
      "Validation Accuracy = 0.387\n",
      "\n",
      "EPOCH 5 ...\n",
      "Validation Accuracy = 0.557\n",
      "\n",
      "EPOCH 6 ...\n",
      "Validation Accuracy = 0.656\n",
      "\n",
      "EPOCH 7 ...\n",
      "Validation Accuracy = 0.766\n",
      "\n",
      "EPOCH 8 ...\n",
      "Validation Accuracy = 0.829\n",
      "\n",
      "EPOCH 9 ...\n",
      "Validation Accuracy = 0.854\n",
      "\n",
      "EPOCH 10 ...\n",
      "Validation Accuracy = 0.886\n",
      "\n",
      "EPOCH 11 ...\n",
      "Validation Accuracy = 0.900\n",
      "\n",
      "EPOCH 12 ...\n",
      "Validation Accuracy = 0.908\n",
      "\n"
     ]
    },
    {
     "ename": "KeyboardInterrupt",
     "evalue": "",
     "output_type": "error",
     "traceback": [
      "\u001b[0;31m---------------------------------------------------------------------------\u001b[0m",
      "\u001b[0;31mKeyboardInterrupt\u001b[0m                         Traceback (most recent call last)",
      "\u001b[0;32m<ipython-input-19-21f6eb2cdcf8>\u001b[0m in \u001b[0;36m<module>\u001b[0;34m()\u001b[0m\n\u001b[1;32m     16\u001b[0m             \u001b[0mend\u001b[0m \u001b[0;34m=\u001b[0m \u001b[0moffset\u001b[0m \u001b[0;34m+\u001b[0m \u001b[0mBATCH_SIZE\u001b[0m\u001b[0;34m\u001b[0m\u001b[0m\n\u001b[1;32m     17\u001b[0m             \u001b[0mbatch_x\u001b[0m\u001b[0;34m,\u001b[0m \u001b[0mbatch_y\u001b[0m \u001b[0;34m=\u001b[0m \u001b[0mX_train\u001b[0m\u001b[0;34m[\u001b[0m\u001b[0moffset\u001b[0m\u001b[0;34m:\u001b[0m\u001b[0mend\u001b[0m\u001b[0;34m]\u001b[0m\u001b[0;34m,\u001b[0m \u001b[0my_train\u001b[0m\u001b[0;34m[\u001b[0m\u001b[0moffset\u001b[0m\u001b[0;34m:\u001b[0m\u001b[0mend\u001b[0m\u001b[0;34m]\u001b[0m\u001b[0;34m\u001b[0m\u001b[0m\n\u001b[0;32m---> 18\u001b[0;31m             \u001b[0msess\u001b[0m\u001b[0;34m.\u001b[0m\u001b[0mrun\u001b[0m\u001b[0;34m(\u001b[0m\u001b[0mtraining_operation\u001b[0m\u001b[0;34m,\u001b[0m \u001b[0mfeed_dict\u001b[0m\u001b[0;34m=\u001b[0m\u001b[0;34m{\u001b[0m\u001b[0mx\u001b[0m\u001b[0;34m:\u001b[0m \u001b[0mbatch_x\u001b[0m\u001b[0;34m,\u001b[0m \u001b[0my\u001b[0m\u001b[0;34m:\u001b[0m \u001b[0mbatch_y\u001b[0m\u001b[0;34m,\u001b[0m \u001b[0mkeep_prob\u001b[0m\u001b[0;34m:\u001b[0m \u001b[0mdropout\u001b[0m\u001b[0;34m}\u001b[0m\u001b[0;34m)\u001b[0m\u001b[0;34m\u001b[0m\u001b[0m\n\u001b[0m\u001b[1;32m     19\u001b[0m \u001b[0;34m\u001b[0m\u001b[0m\n\u001b[1;32m     20\u001b[0m         \u001b[0mvalidation_accuracy\u001b[0m \u001b[0;34m=\u001b[0m \u001b[0mevaluate\u001b[0m\u001b[0;34m(\u001b[0m\u001b[0mX_validation\u001b[0m\u001b[0;34m,\u001b[0m \u001b[0my_validation\u001b[0m\u001b[0;34m)\u001b[0m\u001b[0;34m\u001b[0m\u001b[0m\n",
      "\u001b[0;32m/home/carnd/anaconda3/envs/CarND-Traffic-Sign-Classifier-Project/lib/python3.5/site-packages/tensorflow/python/client/session.py\u001b[0m in \u001b[0;36mrun\u001b[0;34m(self, fetches, feed_dict, options, run_metadata)\u001b[0m\n\u001b[1;32m    764\u001b[0m     \u001b[0;32mtry\u001b[0m\u001b[0;34m:\u001b[0m\u001b[0;34m\u001b[0m\u001b[0m\n\u001b[1;32m    765\u001b[0m       result = self._run(None, fetches, feed_dict, options_ptr,\n\u001b[0;32m--> 766\u001b[0;31m                          run_metadata_ptr)\n\u001b[0m\u001b[1;32m    767\u001b[0m       \u001b[0;32mif\u001b[0m \u001b[0mrun_metadata\u001b[0m\u001b[0;34m:\u001b[0m\u001b[0;34m\u001b[0m\u001b[0m\n\u001b[1;32m    768\u001b[0m         \u001b[0mproto_data\u001b[0m \u001b[0;34m=\u001b[0m \u001b[0mtf_session\u001b[0m\u001b[0;34m.\u001b[0m\u001b[0mTF_GetBuffer\u001b[0m\u001b[0;34m(\u001b[0m\u001b[0mrun_metadata_ptr\u001b[0m\u001b[0;34m)\u001b[0m\u001b[0;34m\u001b[0m\u001b[0m\n",
      "\u001b[0;32m/home/carnd/anaconda3/envs/CarND-Traffic-Sign-Classifier-Project/lib/python3.5/site-packages/tensorflow/python/client/session.py\u001b[0m in \u001b[0;36m_run\u001b[0;34m(self, handle, fetches, feed_dict, options, run_metadata)\u001b[0m\n\u001b[1;32m    962\u001b[0m     \u001b[0;32mif\u001b[0m \u001b[0mfinal_fetches\u001b[0m \u001b[0;32mor\u001b[0m \u001b[0mfinal_targets\u001b[0m\u001b[0;34m:\u001b[0m\u001b[0;34m\u001b[0m\u001b[0m\n\u001b[1;32m    963\u001b[0m       results = self._do_run(handle, final_targets, final_fetches,\n\u001b[0;32m--> 964\u001b[0;31m                              feed_dict_string, options, run_metadata)\n\u001b[0m\u001b[1;32m    965\u001b[0m     \u001b[0;32melse\u001b[0m\u001b[0;34m:\u001b[0m\u001b[0;34m\u001b[0m\u001b[0m\n\u001b[1;32m    966\u001b[0m       \u001b[0mresults\u001b[0m \u001b[0;34m=\u001b[0m \u001b[0;34m[\u001b[0m\u001b[0;34m]\u001b[0m\u001b[0;34m\u001b[0m\u001b[0m\n",
      "\u001b[0;32m/home/carnd/anaconda3/envs/CarND-Traffic-Sign-Classifier-Project/lib/python3.5/site-packages/tensorflow/python/client/session.py\u001b[0m in \u001b[0;36m_do_run\u001b[0;34m(self, handle, target_list, fetch_list, feed_dict, options, run_metadata)\u001b[0m\n\u001b[1;32m   1012\u001b[0m     \u001b[0;32mif\u001b[0m \u001b[0mhandle\u001b[0m \u001b[0;32mis\u001b[0m \u001b[0;32mNone\u001b[0m\u001b[0;34m:\u001b[0m\u001b[0;34m\u001b[0m\u001b[0m\n\u001b[1;32m   1013\u001b[0m       return self._do_call(_run_fn, self._session, feed_dict, fetch_list,\n\u001b[0;32m-> 1014\u001b[0;31m                            target_list, options, run_metadata)\n\u001b[0m\u001b[1;32m   1015\u001b[0m     \u001b[0;32melse\u001b[0m\u001b[0;34m:\u001b[0m\u001b[0;34m\u001b[0m\u001b[0m\n\u001b[1;32m   1016\u001b[0m       return self._do_call(_prun_fn, self._session, handle, feed_dict,\n",
      "\u001b[0;32m/home/carnd/anaconda3/envs/CarND-Traffic-Sign-Classifier-Project/lib/python3.5/site-packages/tensorflow/python/client/session.py\u001b[0m in \u001b[0;36m_do_call\u001b[0;34m(self, fn, *args)\u001b[0m\n\u001b[1;32m   1019\u001b[0m   \u001b[0;32mdef\u001b[0m \u001b[0m_do_call\u001b[0m\u001b[0;34m(\u001b[0m\u001b[0mself\u001b[0m\u001b[0;34m,\u001b[0m \u001b[0mfn\u001b[0m\u001b[0;34m,\u001b[0m \u001b[0;34m*\u001b[0m\u001b[0margs\u001b[0m\u001b[0;34m)\u001b[0m\u001b[0;34m:\u001b[0m\u001b[0;34m\u001b[0m\u001b[0m\n\u001b[1;32m   1020\u001b[0m     \u001b[0;32mtry\u001b[0m\u001b[0;34m:\u001b[0m\u001b[0;34m\u001b[0m\u001b[0m\n\u001b[0;32m-> 1021\u001b[0;31m       \u001b[0;32mreturn\u001b[0m \u001b[0mfn\u001b[0m\u001b[0;34m(\u001b[0m\u001b[0;34m*\u001b[0m\u001b[0margs\u001b[0m\u001b[0;34m)\u001b[0m\u001b[0;34m\u001b[0m\u001b[0m\n\u001b[0m\u001b[1;32m   1022\u001b[0m     \u001b[0;32mexcept\u001b[0m \u001b[0merrors\u001b[0m\u001b[0;34m.\u001b[0m\u001b[0mOpError\u001b[0m \u001b[0;32mas\u001b[0m \u001b[0me\u001b[0m\u001b[0;34m:\u001b[0m\u001b[0;34m\u001b[0m\u001b[0m\n\u001b[1;32m   1023\u001b[0m       \u001b[0mmessage\u001b[0m \u001b[0;34m=\u001b[0m \u001b[0mcompat\u001b[0m\u001b[0;34m.\u001b[0m\u001b[0mas_text\u001b[0m\u001b[0;34m(\u001b[0m\u001b[0me\u001b[0m\u001b[0;34m.\u001b[0m\u001b[0mmessage\u001b[0m\u001b[0;34m)\u001b[0m\u001b[0;34m\u001b[0m\u001b[0m\n",
      "\u001b[0;32m/home/carnd/anaconda3/envs/CarND-Traffic-Sign-Classifier-Project/lib/python3.5/site-packages/tensorflow/python/client/session.py\u001b[0m in \u001b[0;36m_run_fn\u001b[0;34m(session, feed_dict, fetch_list, target_list, options, run_metadata)\u001b[0m\n\u001b[1;32m   1001\u001b[0m         return tf_session.TF_Run(session, options,\n\u001b[1;32m   1002\u001b[0m                                  \u001b[0mfeed_dict\u001b[0m\u001b[0;34m,\u001b[0m \u001b[0mfetch_list\u001b[0m\u001b[0;34m,\u001b[0m \u001b[0mtarget_list\u001b[0m\u001b[0;34m,\u001b[0m\u001b[0;34m\u001b[0m\u001b[0m\n\u001b[0;32m-> 1003\u001b[0;31m                                  status, run_metadata)\n\u001b[0m\u001b[1;32m   1004\u001b[0m \u001b[0;34m\u001b[0m\u001b[0m\n\u001b[1;32m   1005\u001b[0m     \u001b[0;32mdef\u001b[0m \u001b[0m_prun_fn\u001b[0m\u001b[0;34m(\u001b[0m\u001b[0msession\u001b[0m\u001b[0;34m,\u001b[0m \u001b[0mhandle\u001b[0m\u001b[0;34m,\u001b[0m \u001b[0mfeed_dict\u001b[0m\u001b[0;34m,\u001b[0m \u001b[0mfetch_list\u001b[0m\u001b[0;34m)\u001b[0m\u001b[0;34m:\u001b[0m\u001b[0;34m\u001b[0m\u001b[0m\n",
      "\u001b[0;31mKeyboardInterrupt\u001b[0m: "
     ]
    }
   ],
   "source": [
    "with tf.Session() as sess:\n",
    "    \n",
    "    #SELECT Restore variables\n",
    "    #saver.restore(sess, tf.train.latest_checkpoint('.'))\n",
    "    #OR SELECT Initialize variables\n",
    "    sess.run(tf.global_variables_initializer())\n",
    "    \n",
    "    \n",
    "    num_examples = len(X_train)\n",
    "    \n",
    "    print(\"Training...\")\n",
    "    print()\n",
    "    for i in range(EPOCHS):\n",
    "        X_train, y_train = shuffle(X_train, y_train)\n",
    "        for offset in range(0, num_examples, BATCH_SIZE):\n",
    "            end = offset + BATCH_SIZE\n",
    "            batch_x, batch_y = X_train[offset:end], y_train[offset:end]\n",
    "            sess.run(training_operation, feed_dict={x: batch_x, y: batch_y, keep_prob: dropout})\n",
    "            \n",
    "        validation_accuracy = evaluate(X_validation, y_validation)\n",
    "        print(\"EPOCH {} ...\".format(i+1))\n",
    "        print(\"Validation Accuracy = {:.3f}\".format(validation_accuracy))\n",
    "        print()\n",
    "        \n",
    "    saver.save(sess, 'net')\n",
    "    print(\"Model saved\")"
   ]
  },
  {
   "cell_type": "code",
   "execution_count": 20,
   "metadata": {
    "collapsed": false
   },
   "outputs": [
    {
     "name": "stdout",
     "output_type": "stream",
     "text": [
      "Test Accuracy = 0.881\n"
     ]
    }
   ],
   "source": [
    "with tf.Session() as sess:\n",
    "    saver.restore(sess, tf.train.latest_checkpoint('.'))\n",
    "\n",
    "    test_accuracy = evaluate(X_test, y_test)\n",
    "    print(\"Test Accuracy = {:.3f}\".format(test_accuracy))"
   ]
  },
  {
   "cell_type": "markdown",
   "metadata": {},
   "source": [
    "### Question 4\n",
    "\n",
    "_How did you train your model? (Type of optimizer, batch size, epochs, hyperparameters, etc.)_\n"
   ]
  },
  {
   "cell_type": "markdown",
   "metadata": {},
   "source": [
    "**Answer:**\n",
    "I have trained the model using the following:\n",
    "-preprocessing: grayscale and normalize inputs\n",
    "-optimizer:\n",
    "-batch size: 64\n",
    "-epochs: 250\n",
    "-hyperparameters:\n",
    "\t-mu: 0\n",
    "\t-sigma: 0.1\n",
    "\t-inc1_depth: 12\n",
    "\t-inc2_depth: 24\n",
    "\t-l2_rate: 0.01\n",
    "\t-alpha: 0.01\n",
    "\t-epsilon: 1e-3\n",
    "\t-rate: 10e-5\n",
    "\t-dropout: 0.5\n",
    "-pooling: average pooling\n",
    "-activation: relu\n"
   ]
  },
  {
   "cell_type": "markdown",
   "metadata": {},
   "source": [
    "### Question 5\n",
    "\n",
    "\n",
    "_What approach did you take in coming up with a solution to this problem? It may have been a process of trial and error, in which case, outline the steps you took to get to the final solution and why you chose those steps. Perhaps your solution involved an already well known implementation or architecture. In this case, discuss why you think this is suitable for the current problem._"
   ]
  },
  {
   "cell_type": "markdown",
   "metadata": {},
   "source": [
    "**Answer:**\n",
    "Through trial and error, and through reading papers available online about deep neural network, I was able to implement improvements. Each steps are listed as follow:\n",
    "\n",
    "Without improvement to LeNet:\n",
    ">Validation Accuracy ~= 0.957\n",
    "\n",
    "First:\n",
    "-increased epoche from 10 to 100\n",
    ">Validation Accuracy ~= 0.965\n",
    "\n",
    "Second:\n",
    "-Is color important to classify signs? No, thus we can average rgb and use grayscale. It should require less processing power.\n",
    ">Validation Accuracy ~=  0.967\n",
    "\n",
    "Third:\n",
    "-Can we use better regulariser than MaxPooling? Yes, use dropout in addition to maxpooling. Because maxpooling discards only max values, dropout discard more variety of values.\n",
    "-Using epoch  = 100\n",
    ">Validation Accuracy ~=  0.959\n",
    "\n",
    "Fourth: Improvement to using single convolution per layer? Yes. Using inception module. By concatenation of the outputs for a,b,c: a) Average pooling ->  1x1convolution - b) 1x1 -> 3x3 convolution c) 1x1 -> 5x5 convolution (adjustable 3X3, 5x5 parameters)\n",
    "-Using epoch = 20\n",
    ">Validation Accuracy ~=  0.966\n",
    "\n",
    "Fifth:\n",
    "-Change optimizer from adamoptimizer to adagrad\n",
    "-Using epoch = 100\n",
    ">EPOCH 663 ... Validation Accuracy = 0.908\n",
    "\n",
    "Fifth-2:\n",
    "-Change optimizer from adagrad back to adam (because lower validation accuracy)\n",
    "\n",
    "Sixth: \n",
    "-Add L2 regularization to improve handling of new data\n",
    "-Change activation function from Relu to  Leaky Relu. (note: Maxout (generalized form of Relu and leaky Relu, but double number of parameters))\n",
    "-Decrease depth to inc1_depth = 6, inc2_depth = 16\n",
    ">EPOCH 12 ... Validation Accuracy = 0.924\n",
    "\n",
    "Sixth-2:\n",
    "-Using epoch = 10000\n",
    ">EPOCH 20 ... Validation Accuracy = 0.934\n",
    "\n",
    "Seventh: \n",
    "-Add Batch normalization\n",
    ">EPOCH 164 ... Validation Accuracy = 0.974\n",
    "\n",
    "Eighth:\n",
    "Adjust hyperparameters (batch size, epoch, weight initialisation, ...)\n",
    "-Increase inception module depth to inc1_depth = 12 and inc2_depth = 24\n",
    ">EPOCH 19 ... Validation Accuracy = 0.917\n",
    "\n",
    "-Increase learning rate from rate = 0.001 to rate = 10e-5\n",
    ">EPOCH 185 ... Validation Accuracy = 0.986\n",
    "\n",
    "-Reduce epoch to 250\n",
    "-Decrease the batch size from BATCH_SIZE = 128 to BATCH_SIZE = 64\n",
    ">EPOCH 201 ... Validation Accuracy = 0.982\n",
    ">EPOCH 250 ... Validation Accuracy = 0.976\n",
    ">>Test Accuracy = 0.921\n",
    "\n",
    "-Reduce epoch to 100\n",
    "-normalize grayscaled image set\n",
    "-Decrease the batch size from BATCH_SIZE = 64 to BATCH_SIZE = 16\n",
    ">EPOCH 100 ... Validation Accuracy = 0.955 (too long)\n",
    "\n",
    "-Increase epoch to 250\n",
    "-Increase the batch size from BATCH_SIZE = 16 to BATCH_SIZE = 64\n",
    ">"
   ]
  },
  {
   "cell_type": "markdown",
   "metadata": {},
   "source": [
    "---\n",
    "\n",
    "## Step 3: Test a Model on New Images\n",
    "\n",
    "Take several pictures of traffic signs that you find on the web or around you (at least five), and run them through your classifier on your computer to produce example results. The classifier might not recognize some local signs but it could prove interesting nonetheless.\n",
    "\n",
    "You may find `signnames.csv` useful as it contains mappings from the class id (integer) to the actual sign name."
   ]
  },
  {
   "cell_type": "markdown",
   "metadata": {},
   "source": [
    "### Implementation\n",
    "\n",
    "Use the code cell (or multiple code cells, if necessary) to implement the first step of your project. Once you have completed your implementation and are satisfied with the results, be sure to thoroughly answer the questions that follow."
   ]
  },
  {
   "cell_type": "code",
   "execution_count": 25,
   "metadata": {
    "collapsed": false
   },
   "outputs": [
    {
     "ename": "ValueError",
     "evalue": "Only know how to handle extensions: ['png']; with Pillow installed matplotlib can handle more images",
     "output_type": "error",
     "traceback": [
      "\u001b[0;31m---------------------------------------------------------------------------\u001b[0m",
      "\u001b[0;31mValueError\u001b[0m                                Traceback (most recent call last)",
      "\u001b[0;32m<ipython-input-25-aeca8c991db5>\u001b[0m in \u001b[0;36m<module>\u001b[0;34m()\u001b[0m\n\u001b[1;32m      8\u001b[0m \u001b[0;31m#reading in an image\u001b[0m\u001b[0;34m\u001b[0m\u001b[0;34m\u001b[0m\u001b[0m\n\u001b[1;32m      9\u001b[0m \u001b[0mimage_source\u001b[0m \u001b[0;34m=\u001b[0m \u001b[0;34m'sign1.jpg'\u001b[0m\u001b[0;34m\u001b[0m\u001b[0m\n\u001b[0;32m---> 10\u001b[0;31m \u001b[0mimage1\u001b[0m \u001b[0;34m=\u001b[0m \u001b[0mmpimg\u001b[0m\u001b[0;34m.\u001b[0m\u001b[0mimread\u001b[0m\u001b[0;34m(\u001b[0m\u001b[0mimage_source\u001b[0m\u001b[0;34m)\u001b[0m\u001b[0;34m\u001b[0m\u001b[0m\n\u001b[0m\u001b[1;32m     11\u001b[0m \u001b[0;34m\u001b[0m\u001b[0m\n\u001b[1;32m     12\u001b[0m \u001b[0;31m#printing out some stats and plotting\u001b[0m\u001b[0;34m\u001b[0m\u001b[0;34m\u001b[0m\u001b[0m\n",
      "\u001b[0;32m/home/carnd/anaconda3/envs/CarND-Traffic-Sign-Classifier-Project/lib/python3.5/site-packages/matplotlib/image.py\u001b[0m in \u001b[0;36mimread\u001b[0;34m(fname, format)\u001b[0m\n\u001b[1;32m   1308\u001b[0m             raise ValueError('Only know how to handle extensions: %s; '\n\u001b[1;32m   1309\u001b[0m                              \u001b[0;34m'with Pillow installed matplotlib can handle '\u001b[0m\u001b[0;34m\u001b[0m\u001b[0m\n\u001b[0;32m-> 1310\u001b[0;31m                              'more images' % list(six.iterkeys(handlers)))\n\u001b[0m\u001b[1;32m   1311\u001b[0m         \u001b[0;32mreturn\u001b[0m \u001b[0mim\u001b[0m\u001b[0;34m\u001b[0m\u001b[0m\n\u001b[1;32m   1312\u001b[0m \u001b[0;34m\u001b[0m\u001b[0m\n",
      "\u001b[0;31mValueError\u001b[0m: Only know how to handle extensions: ['png']; with Pillow installed matplotlib can handle more images"
     ]
    }
   ],
   "source": [
    "### Load the images and plot them here.\n",
    "### Feel free to use as many code cells as needed.\n",
    "import matplotlib.image as mpimg\n",
    "import matplotlib.pyplot as plt\n",
    "%matplotlib inline\n",
    "\n",
    "#First image:\n",
    "#reading in an image\n",
    "image_source = 'sign1.jpg'\n",
    "image1 = mpimg.imread(image_source)\n",
    "\n",
    "#printing out some stats and plotting\n",
    "#print('This image is:', type(image1), 'with dimesions:', image1.shape)\n",
    "plt.imshow(image1)"
   ]
  },
  {
   "cell_type": "code",
   "execution_count": null,
   "metadata": {
    "collapsed": true
   },
   "outputs": [],
   "source": [
    "#Second image:\n",
    "#reading in an image\n",
    "image_source = 'sign2.jpg'\n",
    "image2 = mpimg.imread(image_source)\n",
    "\n",
    "#printing out some stats and plotting\n",
    "print('This image is:', type(image2), 'with dimesions:', image2.shape)\n",
    "plt.imshow(image2)"
   ]
  },
  {
   "cell_type": "code",
   "execution_count": null,
   "metadata": {
    "collapsed": true
   },
   "outputs": [],
   "source": [
    "#Third image:\n",
    "#reading in an image\n",
    "image_source = 'sign3.jpg'\n",
    "image3 = mpimg.imread(image_source)\n",
    "\n",
    "#printing out some stats and plotting\n",
    "print('This image is:', type(image3), 'with dimesions:', image3.shape)\n",
    "plt.imshow(image3)"
   ]
  },
  {
   "cell_type": "code",
   "execution_count": 26,
   "metadata": {
    "collapsed": false
   },
   "outputs": [
    {
     "ename": "FileNotFoundError",
     "evalue": "[Errno 2] No such file or directory: 'sign4.png'",
     "output_type": "error",
     "traceback": [
      "\u001b[0;31m---------------------------------------------------------------------------\u001b[0m",
      "\u001b[0;31mFileNotFoundError\u001b[0m                         Traceback (most recent call last)",
      "\u001b[0;32m<ipython-input-26-3d7c2cf1b995>\u001b[0m in \u001b[0;36m<module>\u001b[0;34m()\u001b[0m\n\u001b[1;32m      2\u001b[0m \u001b[0;31m#reading in an image\u001b[0m\u001b[0;34m\u001b[0m\u001b[0;34m\u001b[0m\u001b[0m\n\u001b[1;32m      3\u001b[0m \u001b[0mimage_source\u001b[0m \u001b[0;34m=\u001b[0m \u001b[0;34m'sign4.png'\u001b[0m\u001b[0;34m\u001b[0m\u001b[0m\n\u001b[0;32m----> 4\u001b[0;31m \u001b[0mimage4\u001b[0m \u001b[0;34m=\u001b[0m \u001b[0mmpimg\u001b[0m\u001b[0;34m.\u001b[0m\u001b[0mimread\u001b[0m\u001b[0;34m(\u001b[0m\u001b[0mimage_source\u001b[0m\u001b[0;34m)\u001b[0m\u001b[0;34m\u001b[0m\u001b[0m\n\u001b[0m\u001b[1;32m      5\u001b[0m \u001b[0;34m\u001b[0m\u001b[0m\n\u001b[1;32m      6\u001b[0m \u001b[0;31m#printing out some stats and plotting\u001b[0m\u001b[0;34m\u001b[0m\u001b[0;34m\u001b[0m\u001b[0m\n",
      "\u001b[0;32m/home/carnd/anaconda3/envs/CarND-Traffic-Sign-Classifier-Project/lib/python3.5/site-packages/matplotlib/image.py\u001b[0m in \u001b[0;36mimread\u001b[0;34m(fname, format)\u001b[0m\n\u001b[1;32m   1323\u001b[0m             \u001b[0;32mreturn\u001b[0m \u001b[0mhandler\u001b[0m\u001b[0;34m(\u001b[0m\u001b[0mfd\u001b[0m\u001b[0;34m)\u001b[0m\u001b[0;34m\u001b[0m\u001b[0m\n\u001b[1;32m   1324\u001b[0m         \u001b[0;32melse\u001b[0m\u001b[0;34m:\u001b[0m\u001b[0;34m\u001b[0m\u001b[0m\n\u001b[0;32m-> 1325\u001b[0;31m             \u001b[0;32mwith\u001b[0m \u001b[0mopen\u001b[0m\u001b[0;34m(\u001b[0m\u001b[0mfname\u001b[0m\u001b[0;34m,\u001b[0m \u001b[0;34m'rb'\u001b[0m\u001b[0;34m)\u001b[0m \u001b[0;32mas\u001b[0m \u001b[0mfd\u001b[0m\u001b[0;34m:\u001b[0m\u001b[0;34m\u001b[0m\u001b[0m\n\u001b[0m\u001b[1;32m   1326\u001b[0m                 \u001b[0;32mreturn\u001b[0m \u001b[0mhandler\u001b[0m\u001b[0;34m(\u001b[0m\u001b[0mfd\u001b[0m\u001b[0;34m)\u001b[0m\u001b[0;34m\u001b[0m\u001b[0m\n\u001b[1;32m   1327\u001b[0m     \u001b[0;32melse\u001b[0m\u001b[0;34m:\u001b[0m\u001b[0;34m\u001b[0m\u001b[0m\n",
      "\u001b[0;31mFileNotFoundError\u001b[0m: [Errno 2] No such file or directory: 'sign4.png'"
     ]
    }
   ],
   "source": [
    "#Fourth image:\n",
    "#reading in an image\n",
    "image_source = 'sign4.png'\n",
    "image4 = mpimg.imread(image_source)\n",
    "\n",
    "#printing out some stats and plotting\n",
    "print('This image is:', type(image4), 'with dimesions:', image4.shape)\n",
    "plt.imshow(image4)"
   ]
  },
  {
   "cell_type": "code",
   "execution_count": null,
   "metadata": {
    "collapsed": true
   },
   "outputs": [],
   "source": [
    "#Fifth image:\n",
    "#reading in an image\n",
    "image_source = 'sign5.jpeg'\n",
    "image5 = mpimg.imread(image_source)\n",
    "\n",
    "#printing out some stats and plotting\n",
    "print('This image is:', type(image5), 'with dimesions:', image5.shape)\n",
    "plt.imshow(image5)"
   ]
  },
  {
   "cell_type": "markdown",
   "metadata": {},
   "source": [
    "### Question 6\n",
    "\n",
    "_Choose five candidate images of traffic signs and provide them in the report. Are there any particular qualities of the image(s) that might make classification difficult? It could be helpful to plot the images in the notebook._\n",
    "\n"
   ]
  },
  {
   "cell_type": "markdown",
   "metadata": {},
   "source": [
    "**Answer:**"
   ]
  },
  {
   "cell_type": "code",
   "execution_count": null,
   "metadata": {
    "collapsed": true
   },
   "outputs": [],
   "source": [
    "### Run the predictions here.\n",
    "### Feel free to use as many code cells as needed.\n",
    "\n",
    "#First image:\n",
    "\n",
    "#Difficulties classifying the image:\n",
    "#\n",
    "#"
   ]
  },
  {
   "cell_type": "code",
   "execution_count": null,
   "metadata": {
    "collapsed": true
   },
   "outputs": [],
   "source": [
    "#Second image:\n",
    "\n",
    "#Difficulties classifying the image:\n",
    "#\n",
    "#"
   ]
  },
  {
   "cell_type": "code",
   "execution_count": null,
   "metadata": {
    "collapsed": true
   },
   "outputs": [],
   "source": [
    "#Third image:\n",
    "\n",
    "#Difficulties classifying the image:\n",
    "#\n",
    "#"
   ]
  },
  {
   "cell_type": "code",
   "execution_count": null,
   "metadata": {
    "collapsed": true
   },
   "outputs": [],
   "source": [
    "#Fourth image:\n",
    "\n",
    "#Difficulties classifying the image:\n",
    "#\n",
    "#"
   ]
  },
  {
   "cell_type": "code",
   "execution_count": null,
   "metadata": {
    "collapsed": true
   },
   "outputs": [],
   "source": [
    "#Fifth image:\n",
    "\n",
    "#Difficulties classifying the image:\n",
    "#\n",
    "#"
   ]
  },
  {
   "cell_type": "markdown",
   "metadata": {},
   "source": [
    "### Question 7\n",
    "\n",
    "_Is your model able to perform equally well on captured pictures when compared to testing on the dataset? The simplest way to do this check the accuracy of the predictions. For example, if the model predicted 1 out of 5 signs correctly, it's 20% accurate._\n",
    "\n",
    "_**NOTE:** You could check the accuracy manually by using `signnames.csv` (same directory). This file has a mapping from the class id (0-42) to the corresponding sign name. So, you could take the class id the model outputs, lookup the name in `signnames.csv` and see if it matches the sign from the image._\n"
   ]
  },
  {
   "cell_type": "markdown",
   "metadata": {},
   "source": [
    "**Answer:**"
   ]
  },
  {
   "cell_type": "code",
   "execution_count": null,
   "metadata": {
    "collapsed": true
   },
   "outputs": [],
   "source": [
    "### Visualize the softmax probabilities here.\n",
    "### Feel free to use as many code cells as needed.\n",
    "\n",
    "#First image:\n"
   ]
  },
  {
   "cell_type": "code",
   "execution_count": null,
   "metadata": {
    "collapsed": true
   },
   "outputs": [],
   "source": [
    "#Second image:\n"
   ]
  },
  {
   "cell_type": "code",
   "execution_count": null,
   "metadata": {
    "collapsed": true
   },
   "outputs": [],
   "source": [
    "#Third image:\n"
   ]
  },
  {
   "cell_type": "code",
   "execution_count": null,
   "metadata": {
    "collapsed": true
   },
   "outputs": [],
   "source": [
    "#Fourth image:\n"
   ]
  },
  {
   "cell_type": "code",
   "execution_count": null,
   "metadata": {
    "collapsed": true
   },
   "outputs": [],
   "source": [
    "#Fifth image:\n"
   ]
  },
  {
   "cell_type": "code",
   "execution_count": null,
   "metadata": {
    "collapsed": true
   },
   "outputs": [],
   "source": [
    "#Is your model able to perform equally well on captured pictures when \n",
    "#compared to testing on the dataset? The simplest way to do this check \n",
    "#the accuracy of the predictions. For example, if the model predicted 1 \n",
    "#out of 5 signs correctly, it's 20% accurate.\n",
    "\n",
    "#"
   ]
  },
  {
   "cell_type": "markdown",
   "metadata": {},
   "source": [
    "### Question 8\n",
    "\n",
    "*Use the model's softmax probabilities to visualize the **certainty** of its predictions, [`tf.nn.top_k`](https://www.tensorflow.org/versions/r0.12/api_docs/python/nn.html#top_k) could prove helpful here. Which predictions is the model certain of? Uncertain? If the model was incorrect in its initial prediction, does the correct prediction appear in the top k? (k should be 5 at most)*\n",
    "\n",
    "`tf.nn.top_k` will return the values and indices (class ids) of the top k predictions. So if k=3, for each sign, it'll return the 3 largest probabilities (out of a possible 43) and the correspoding class ids.\n",
    "\n",
    "Take this numpy array as an example:\n",
    "\n",
    "```\n",
    "# (5, 6) array\n",
    "a = np.array([[ 0.24879643,  0.07032244,  0.12641572,  0.34763842,  0.07893497,\n",
    "         0.12789202],\n",
    "       [ 0.28086119,  0.27569815,  0.08594638,  0.0178669 ,  0.18063401,\n",
    "         0.15899337],\n",
    "       [ 0.26076848,  0.23664738,  0.08020603,  0.07001922,  0.1134371 ,\n",
    "         0.23892179],\n",
    "       [ 0.11943333,  0.29198961,  0.02605103,  0.26234032,  0.1351348 ,\n",
    "         0.16505091],\n",
    "       [ 0.09561176,  0.34396535,  0.0643941 ,  0.16240774,  0.24206137,\n",
    "         0.09155967]])\n",
    "```\n",
    "\n",
    "Running it through `sess.run(tf.nn.top_k(tf.constant(a), k=3))` produces:\n",
    "\n",
    "```\n",
    "TopKV2(values=array([[ 0.34763842,  0.24879643,  0.12789202],\n",
    "       [ 0.28086119,  0.27569815,  0.18063401],\n",
    "       [ 0.26076848,  0.23892179,  0.23664738],\n",
    "       [ 0.29198961,  0.26234032,  0.16505091],\n",
    "       [ 0.34396535,  0.24206137,  0.16240774]]), indices=array([[3, 0, 5],\n",
    "       [0, 1, 4],\n",
    "       [0, 5, 1],\n",
    "       [1, 3, 5],\n",
    "       [1, 4, 3]], dtype=int32))\n",
    "```\n",
    "\n",
    "Looking just at the first row we get `[ 0.34763842,  0.24879643,  0.12789202]`, you can confirm these are the 3 largest probabilities in `a`. You'll also notice `[3, 0, 5]` are the corresponding indices."
   ]
  },
  {
   "cell_type": "markdown",
   "metadata": {},
   "source": [
    "**Answer:**"
   ]
  },
  {
   "cell_type": "markdown",
   "metadata": {},
   "source": [
    "> **Note**: Once you have completed all of the code implementations and successfully answered each question above, you may finalize your work by exporting the iPython Notebook as an HTML document. You can do this by using the menu above and navigating to  \\n\",\n",
    "    \"**File -> Download as -> HTML (.html)**. Include the finished document along with this notebook as your submission."
   ]
  },
  {
   "cell_type": "code",
   "execution_count": null,
   "metadata": {
    "collapsed": true
   },
   "outputs": [],
   "source": [
    "a = [, ,]\n",
    "\n",
    "sess.run(tf.nn.top_k(tf.constant(a), k=5))"
   ]
  }
 ],
 "metadata": {
  "anaconda-cloud": {},
  "kernelspec": {
   "display_name": "Python 3",
   "language": "python",
   "name": "python3"
  },
  "language_info": {
   "codemirror_mode": {
    "name": "ipython",
    "version": 3
   },
   "file_extension": ".py",
   "mimetype": "text/x-python",
   "name": "python",
   "nbconvert_exporter": "python",
   "pygments_lexer": "ipython3",
   "version": "3.5.2"
  },
  "widgets": {
   "state": {},
   "version": "1.1.2"
  }
 },
 "nbformat": 4,
 "nbformat_minor": 1
}
